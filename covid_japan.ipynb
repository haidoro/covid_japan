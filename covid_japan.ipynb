{
 "cells": [
  {
   "cell_type": "markdown",
   "metadata": {
    "colab_type": "text",
    "id": "kFuowOuFT70r"
   },
   "source": [
    "# 全国新型コロナウイルスデータ\n",
    "\n"
   ]
  },
  {
   "cell_type": "markdown",
   "metadata": {
    "colab_type": "text",
    "id": "vPlwH2iQssfM"
   },
   "source": [
    "## jsonデータを読み込み"
   ]
  },
  {
   "cell_type": "code",
   "execution_count": 11,
   "metadata": {
    "colab": {},
    "colab_type": "code",
    "id": "VmzkaKCzhHrs"
   },
   "outputs": [
    {
     "data": {
      "text/html": [
       "<div>\n",
       "<style scoped>\n",
       "    .dataframe tbody tr th:only-of-type {\n",
       "        vertical-align: middle;\n",
       "    }\n",
       "\n",
       "    .dataframe tbody tr th {\n",
       "        vertical-align: top;\n",
       "    }\n",
       "\n",
       "    .dataframe thead th {\n",
       "        text-align: right;\n",
       "    }\n",
       "</style>\n",
       "<table border=\"1\" class=\"dataframe\">\n",
       "  <thead>\n",
       "    <tr style=\"text-align: right;\">\n",
       "      <th></th>\n",
       "      <th>通し</th>\n",
       "      <th>厚労省NO</th>\n",
       "      <th>無症状病原体保有者</th>\n",
       "      <th>国内</th>\n",
       "      <th>チャーター便</th>\n",
       "      <th>年代</th>\n",
       "      <th>性別</th>\n",
       "      <th>確定日</th>\n",
       "      <th>発症日</th>\n",
       "      <th>受診都道府県</th>\n",
       "      <th>...</th>\n",
       "      <th>勤務先_正誤確認用</th>\n",
       "      <th>Hospital Pref</th>\n",
       "      <th>Residential Pref</th>\n",
       "      <th>Release</th>\n",
       "      <th>Gender</th>\n",
       "      <th>X</th>\n",
       "      <th>Y</th>\n",
       "      <th>確定日YYYYMMDD</th>\n",
       "      <th>受診都道府県コード</th>\n",
       "      <th>居住都道府県コード</th>\n",
       "    </tr>\n",
       "  </thead>\n",
       "  <tbody>\n",
       "    <tr>\n",
       "      <th>0</th>\n",
       "      <td>1</td>\n",
       "      <td>1</td>\n",
       "      <td>NaN</td>\n",
       "      <td>A-1</td>\n",
       "      <td>NaN</td>\n",
       "      <td>30</td>\n",
       "      <td>男性</td>\n",
       "      <td>1/15/2020</td>\n",
       "      <td>1/3/2020</td>\n",
       "      <td>神奈川県</td>\n",
       "      <td>...</td>\n",
       "      <td>NaN</td>\n",
       "      <td>Kanagawa</td>\n",
       "      <td>Kanagawa</td>\n",
       "      <td>Kanagawa Prefecture</td>\n",
       "      <td>Male</td>\n",
       "      <td>139.642347</td>\n",
       "      <td>35.447504</td>\n",
       "      <td>2020/1/15</td>\n",
       "      <td>14.0</td>\n",
       "      <td>14.0</td>\n",
       "    </tr>\n",
       "    <tr>\n",
       "      <th>1</th>\n",
       "      <td>2</td>\n",
       "      <td>2</td>\n",
       "      <td>NaN</td>\n",
       "      <td>A-2</td>\n",
       "      <td>NaN</td>\n",
       "      <td>40</td>\n",
       "      <td>男性</td>\n",
       "      <td>1/24/2020</td>\n",
       "      <td>1/14/2020</td>\n",
       "      <td>東京都</td>\n",
       "      <td>...</td>\n",
       "      <td>NaN</td>\n",
       "      <td>Tokyo</td>\n",
       "      <td>Tokyo</td>\n",
       "      <td>Tokyo Metropolitan Government</td>\n",
       "      <td>Male</td>\n",
       "      <td>116.409685</td>\n",
       "      <td>39.903832</td>\n",
       "      <td>2020/1/24</td>\n",
       "      <td>13.0</td>\n",
       "      <td>NaN</td>\n",
       "    </tr>\n",
       "    <tr>\n",
       "      <th>2</th>\n",
       "      <td>3</td>\n",
       "      <td>3</td>\n",
       "      <td>NaN</td>\n",
       "      <td>A-3</td>\n",
       "      <td>NaN</td>\n",
       "      <td>30</td>\n",
       "      <td>女性</td>\n",
       "      <td>1/25/2020</td>\n",
       "      <td>1/21/2020</td>\n",
       "      <td>東京都</td>\n",
       "      <td>...</td>\n",
       "      <td>NaN</td>\n",
       "      <td>Tokyo</td>\n",
       "      <td>Tokyo</td>\n",
       "      <td>Tokyo Metropolitan Government</td>\n",
       "      <td>Female</td>\n",
       "      <td>116.409685</td>\n",
       "      <td>39.903832</td>\n",
       "      <td>2020/1/25</td>\n",
       "      <td>13.0</td>\n",
       "      <td>NaN</td>\n",
       "    </tr>\n",
       "    <tr>\n",
       "      <th>3</th>\n",
       "      <td>4</td>\n",
       "      <td>4</td>\n",
       "      <td>NaN</td>\n",
       "      <td>A-4</td>\n",
       "      <td>NaN</td>\n",
       "      <td>40</td>\n",
       "      <td>男性</td>\n",
       "      <td>1/26/2020</td>\n",
       "      <td>1/23/2020</td>\n",
       "      <td>愛知県</td>\n",
       "      <td>...</td>\n",
       "      <td>NaN</td>\n",
       "      <td>Aichi</td>\n",
       "      <td>Aichi</td>\n",
       "      <td>Aichi Prefecture</td>\n",
       "      <td>Male</td>\n",
       "      <td>116.409685</td>\n",
       "      <td>39.903832</td>\n",
       "      <td>2020/1/26</td>\n",
       "      <td>23.0</td>\n",
       "      <td>NaN</td>\n",
       "    </tr>\n",
       "    <tr>\n",
       "      <th>4</th>\n",
       "      <td>5</td>\n",
       "      <td>5</td>\n",
       "      <td>NaN</td>\n",
       "      <td>A-5</td>\n",
       "      <td>NaN</td>\n",
       "      <td>40</td>\n",
       "      <td>男性</td>\n",
       "      <td>1/28/2020</td>\n",
       "      <td>1/22/2020</td>\n",
       "      <td>愛知県</td>\n",
       "      <td>...</td>\n",
       "      <td>NaN</td>\n",
       "      <td>Aichi</td>\n",
       "      <td>Aichi</td>\n",
       "      <td>Aichi Prefecture</td>\n",
       "      <td>Male</td>\n",
       "      <td>116.409685</td>\n",
       "      <td>39.903832</td>\n",
       "      <td>2020/1/28</td>\n",
       "      <td>23.0</td>\n",
       "      <td>NaN</td>\n",
       "    </tr>\n",
       "  </tbody>\n",
       "</table>\n",
       "<p>5 rows × 38 columns</p>\n",
       "</div>"
      ],
      "text/plain": [
       "   通し 厚労省NO 無症状病原体保有者   国内 チャーター便  年代  性別        確定日        発症日 受診都道府県  \\\n",
       "0   1     1       NaN  A-1    NaN  30  男性  1/15/2020   1/3/2020   神奈川県   \n",
       "1   2     2       NaN  A-2    NaN  40  男性  1/24/2020  1/14/2020    東京都   \n",
       "2   3     3       NaN  A-3    NaN  30  女性  1/25/2020  1/21/2020    東京都   \n",
       "3   4     4       NaN  A-4    NaN  40  男性  1/26/2020  1/23/2020    愛知県   \n",
       "4   5     5       NaN  A-5    NaN  40  男性  1/28/2020  1/22/2020    愛知県   \n",
       "\n",
       "     ...    勤務先_正誤確認用 Hospital Pref Residential Pref  \\\n",
       "0    ...          NaN      Kanagawa         Kanagawa   \n",
       "1    ...          NaN         Tokyo            Tokyo   \n",
       "2    ...          NaN         Tokyo            Tokyo   \n",
       "3    ...          NaN         Aichi            Aichi   \n",
       "4    ...          NaN         Aichi            Aichi   \n",
       "\n",
       "                         Release  Gender           X          Y 確定日YYYYMMDD  \\\n",
       "0            Kanagawa Prefecture    Male  139.642347  35.447504   2020/1/15   \n",
       "1  Tokyo Metropolitan Government    Male  116.409685  39.903832   2020/1/24   \n",
       "2  Tokyo Metropolitan Government  Female  116.409685  39.903832   2020/1/25   \n",
       "3               Aichi Prefecture    Male  116.409685  39.903832   2020/1/26   \n",
       "4               Aichi Prefecture    Male  116.409685  39.903832   2020/1/28   \n",
       "\n",
       "  受診都道府県コード 居住都道府県コード  \n",
       "0      14.0      14.0  \n",
       "1      13.0       NaN  \n",
       "2      13.0       NaN  \n",
       "3      23.0       NaN  \n",
       "4      23.0       NaN  \n",
       "\n",
       "[5 rows x 38 columns]"
      ]
     },
     "execution_count": 11,
     "metadata": {},
     "output_type": "execute_result"
    }
   ],
   "source": [
    "import pandas as pd\n",
    "import numpy as np\n",
    "import matplotlib.pyplot as plt\n",
    "import matplotlib as mpl\n",
    "mpl.rcParams['font.family'] = 'AppleGothic'\n",
    "\n",
    "data = pd.read_csv('./COVID-19.csv')\n",
    "data.head()"
   ]
  },
  {
   "cell_type": "code",
   "execution_count": 22,
   "metadata": {},
   "outputs": [
    {
     "name": "stdout",
     "output_type": "stream",
     "text": [
      "<class 'pandas.core.frame.DataFrame'>\n",
      "RangeIndex: 334 entries, 0 to 333\n",
      "Data columns (total 38 columns):\n",
      "通し                  334 non-null int64\n",
      "厚労省NO               308 non-null object\n",
      "無症状病原体保有者           29 non-null object\n",
      "国内                  245 non-null object\n",
      "チャーター便              11 non-null object\n",
      "年代                  334 non-null object\n",
      "性別                  334 non-null object\n",
      "確定日                 334 non-null object\n",
      "発症日                 215 non-null object\n",
      "受診都道府県              334 non-null object\n",
      "居住都道府県              334 non-null object\n",
      "居住管内                61 non-null object\n",
      "居住市区町村              171 non-null object\n",
      "キー                  334 non-null object\n",
      "発表                  329 non-null object\n",
      "ステータス               22 non-null object\n",
      "備考                  84 non-null object\n",
      "ソース                 275 non-null object\n",
      "ソース2                261 non-null object\n",
      "ソース3                33 non-null object\n",
      "人数                  332 non-null float64\n",
      "累計                  334 non-null int64\n",
      "前日比                 334 non-null int64\n",
      "死者合計                333 non-null float64\n",
      "退院数累計               23 non-null float64\n",
      "退院数                 23 non-null float64\n",
      "発症数                 334 non-null int64\n",
      "職業_正誤確認用            69 non-null object\n",
      "勤務先_正誤確認用           0 non-null float64\n",
      "Hospital Pref       333 non-null object\n",
      "Residential Pref    333 non-null object\n",
      "Release             333 non-null object\n",
      "Gender              331 non-null object\n",
      "X                   334 non-null float64\n",
      "Y                   334 non-null float64\n",
      "確定日YYYYMMDD         334 non-null object\n",
      "受診都道府県コード           327 non-null float64\n",
      "居住都道府県コード           310 non-null float64\n",
      "dtypes: float64(9), int64(4), object(25)\n",
      "memory usage: 99.2+ KB\n"
     ]
    }
   ],
   "source": [
    "data.info()"
   ]
  },
  {
   "cell_type": "markdown",
   "metadata": {
    "colab_type": "text",
    "id": "IWyn6DvPtCJz"
   },
   "source": [
    "## 症状別累計人数"
   ]
  },
  {
   "cell_type": "code",
   "execution_count": 26,
   "metadata": {
    "colab": {
     "base_uri": "https://localhost:8080/",
     "height": 52
    },
    "colab_type": "code",
    "executionInfo": {
     "elapsed": 1461,
     "status": "ok",
     "timestamp": 1583329559370,
     "user": {
      "displayName": "Masaharu Tahara",
      "photoUrl": "https://lh3.googleusercontent.com/a-/AOh14GgDZTkpWapcr-Hu5D1IiWlVFWkSA43uyEPzQ9g4=s64",
      "userId": "12114998395404680786"
     },
     "user_tz": -540
    },
    "id": "drfCNdQUl3T8",
    "outputId": "855e7b56-f52c-4c4c-f955-c15725274534"
   },
   "outputs": [
    {
     "name": "stdout",
     "output_type": "stream",
     "text": [
      "3/5/2020 現在データ\n",
      "全国の新型コロナウイルス感染者はトータル: 334 死亡: 6 退院: 15\n",
      "死亡確率：1.7964071856287425% 退院率：4.491017964071856%\n"
     ]
    }
   ],
   "source": [
    "total = len(data)\n",
    "d = (data[\"ステータス\"].str.contains('死亡')).sum()\n",
    "di = (data[\"ステータス\"].str.contains('退院')).sum()\n",
    "print(data[\"確定日\"].iloc[-1],\"現在データ\")\n",
    "print('全国の新型コロナウイルス感染者はトータル:',total,'死亡:',d,'退院:',di)\n",
    "print('死亡確率：{}%'.format((d/total)*100),'退院率：{}%'.format((di/total)*100))"
   ]
  },
  {
   "cell_type": "markdown",
   "metadata": {
    "colab_type": "text",
    "id": "RrrP36b-tUWh"
   },
   "source": [
    "## 年代別感染者数割合"
   ]
  },
  {
   "cell_type": "code",
   "execution_count": 20,
   "metadata": {
    "colab": {
     "base_uri": "https://localhost:8080/",
     "height": 575
    },
    "colab_type": "code",
    "executionInfo": {
     "elapsed": 5786,
     "status": "ok",
     "timestamp": 1583329563766,
     "user": {
      "displayName": "Masaharu Tahara",
      "photoUrl": "https://lh3.googleusercontent.com/a-/AOh14GgDZTkpWapcr-Hu5D1IiWlVFWkSA43uyEPzQ9g4=s64",
      "userId": "12114998395404680786"
     },
     "user_tz": -540
    },
    "id": "cMPvmUcqqnSR",
    "outputId": "715da150-8248-496a-d366-19b5429619ec"
   },
   "outputs": [
    {
     "data": {
      "image/png": "[encoded data removed]",
      "text/plain": [
       "<Figure size 720x720 with 1 Axes>"
      ]
     },
     "metadata": {},
     "output_type": "display_data"
    }
   ],
   "source": [
    "x = data['年代'].value_counts(ascending=True)\n",
    "label_index = data['年代'].value_counts(ascending=True).index\n",
    "plt.figure(figsize=(10,10))\n",
    "plt.pie(x, labels= label_index, startangle=90, labeldistance=1,rotatelabels=False,autopct='%.2f%%')\n",
    "plt.legend()\n",
    "plt.show()"
   ]
  },
  {
   "cell_type": "markdown",
   "metadata": {
    "colab_type": "text",
    "id": "zhO81qdStYwT"
   },
   "source": [
    "## 性別感染者数割合"
   ]
  },
  {
   "cell_type": "code",
   "execution_count": 21,
   "metadata": {
    "colab": {
     "base_uri": "https://localhost:8080/",
     "height": 575
    },
    "colab_type": "code",
    "executionInfo": {
     "elapsed": 5737,
     "status": "ok",
     "timestamp": 1583329563766,
     "user": {
      "displayName": "Masaharu Tahara",
      "photoUrl": "https://lh3.googleusercontent.com/a-/AOh14GgDZTkpWapcr-Hu5D1IiWlVFWkSA43uyEPzQ9g4=s64",
      "userId": "12114998395404680786"
     },
     "user_tz": -540
    },
    "id": "pWy7SlvHrl-_",
    "outputId": "0bf1fcdc-5a9e-40ae-cb40-b7a4712facb5"
   },
   "outputs": [
    {
     "data": {
      "image/png": "[encoded data removed]",
      "text/plain": [
       "<Figure size 720x720 with 1 Axes>"
      ]
     },
     "metadata": {},
     "output_type": "display_data"
    }
   ],
   "source": [
    "x = data['性別'].value_counts(ascending=True)\n",
    "label_index = data['性別'].value_counts(ascending=True).index\n",
    "plt.figure(figsize=(10,10))\n",
    "plt.pie(x, labels= label_index, startangle=90, labeldistance=1,rotatelabels=False,autopct='%.2f%%')\n",
    "plt.legend()\n",
    "plt.show()"
   ]
  },
  {
   "cell_type": "code",
   "execution_count": null,
   "metadata": {},
   "outputs": [],
   "source": []
  }
 ],
 "metadata": {
  "colab": {
   "authorship_tag": "ABX9TyP+m6yFKLnzk/fbYeu5JudU",
   "mount_file_id": "19vR6Hb4bkjrqVZM824NH2E_wUUsY_J4x",
   "name": "covid_tokyo.ipynb",
   "provenance": []
  },
  "kernelspec": {
   "display_name": "Python 3",
   "language": "python",
   "name": "python3"
  },
  "language_info": {
   "codemirror_mode": {
    "name": "ipython",
    "version": 3
   },
   "file_extension": ".py",
   "mimetype": "text/x-python",
   "name": "python",
   "nbconvert_exporter": "python",
   "pygments_lexer": "ipython3",
   "version": "3.7.1"
  }
 },
 "nbformat": 4,
 "nbformat_minor": 1
}
